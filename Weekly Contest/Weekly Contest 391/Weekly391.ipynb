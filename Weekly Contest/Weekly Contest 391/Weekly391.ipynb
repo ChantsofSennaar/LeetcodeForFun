{
 "cells": [
  {
   "attachments": {},
   "cell_type": "markdown",
   "metadata": {},
   "source": [
    "### Weekly Contest 391"
   ]
  },
  {
   "attachments": {},
   "cell_type": "markdown",
   "metadata": {},
   "source": [
    "#### 3099. Harshad Number\n",
    "\n",
    "> An integer divisible by the sum of its digits is said to be a Harshad number. You are given an integer x. Return the sum of the digits of x if x is a Harshad number, otherwise, return -1.\n",
    "\n",
    "*Tags: Math*\n",
    "\n",
    "Solution: just do as the problem describes"
   ]
  },
  {
   "cell_type": "code",
   "execution_count": 3,
   "metadata": {},
   "outputs": [],
   "source": [
    "from typing import List"
   ]
  },
  {
   "cell_type": "code",
   "execution_count": 4,
   "metadata": {},
   "outputs": [],
   "source": [
    "class Solution:\n",
    "    def sumOfTheDigitsOfHarshadNumber(self, x: int) -> int:\n",
    "        y = 0\n",
    "        n = x\n",
    "        while x:\n",
    "            y += x % 10\n",
    "            x //= 10\n",
    "        if n % y == 0: return y\n",
    "        return -1"
   ]
  },
  {
   "attachments": {},
   "cell_type": "markdown",
   "metadata": {},
   "source": [
    "#### 3100. Water Bottles II\n",
    "\n",
    "> You are given two integers numBottles and numExchange.\n",
    ">\n",
    "> numBottles represents the number of full water bottles that you initially have. In one operation, you can perform one of the following operations:\n",
    ">\n",
    "> Drink any number of full water bottles turning them into empty bottles.\n",
    "Exchange numExchange empty bottles with one full water bottle. Then, increase numExchange by one.\n",
    "Note that you cannot exchange multiple batches of empty bottles for the same value of numExchange. For example, if numBottles == 3 and numExchange == 1, you cannot exchange 3 empty water bottles for 3 full bottles.\n",
    "> \n",
    "> Return the maximum number of water bottles you can drink.\n",
    "\n",
    "*Tags: Math, Simulation*\n",
    "\n",
    "\n",
    "Solution: try to make the beginning characters as close to 'a' as possible"
   ]
  },
  {
   "cell_type": "code",
   "execution_count": 5,
   "metadata": {},
   "outputs": [],
   "source": [
    "class Solution:\n",
    "    def maxBottlesDrunk(self, numBottles: int, numExchange: int) -> int:\n",
    "        empty = 0\n",
    "        full = numBottles\n",
    "        ans = 0\n",
    "        while full or empty >= numExchange:\n",
    "            ans += full\n",
    "            empty += full\n",
    "            full = 0\n",
    "            if numExchange <= empty:\n",
    "                full += 1\n",
    "                empty -= numExchange\n",
    "                numExchange += 1\n",
    "        return ans"
   ]
  },
  {
   "attachments": {},
   "cell_type": "markdown",
   "metadata": {},
   "source": [
    "#### 3101. Count Alternating Subarrays\n",
    "\n",
    "> You are given a binary array nums.\n",
    ">\n",
    "> We call a subarray alternating if no two adjacent elements in the subarray have the same value.\n",
    ">\n",
    "> Return the number of alternating subarrays in nums.\n",
    "\n",
    "*Tags: Array, Math*\n",
    "\n",
    "Solution: "
   ]
  },
  {
   "cell_type": "code",
   "execution_count": 6,
   "metadata": {},
   "outputs": [],
   "source": [
    "class Solution:\n",
    "    def countAlternatingSubarrays(self, nums: List[int]) -> int:\n",
    "        ans = []\n",
    "        cnt, prev = 0, None\n",
    "        for i in range(len(nums)):\n",
    "            # Don't use not prev....\n",
    "            if prev is None or prev != nums[i]:\n",
    "                prev = nums[i]\n",
    "                cnt += 1\n",
    "            else:\n",
    "                ans.append(cnt)\n",
    "                prev = nums[i]\n",
    "                cnt = 1\n",
    "        ans.append(cnt)\n",
    "        return sum([n * (n+1) // 2 for n in ans])\n"
   ]
  },
  {
   "attachments": {},
   "cell_type": "markdown",
   "metadata": {},
   "source": [
    "#### 3102. Minimize Manhattan Distances\n",
    "\n",
    "> You are given a array points representing integer coordinates of some points on a 2D plane, where points[i] = [xi, yi].\n",
    ">\n",
    "> The distance between two points is defined as their Manhattan distance.\n",
    ">\n",
    "> Return the minimum possible value for maximum distance between any two points by removing exactly one point.\n",
    "\n",
    "*Tags: Array, Math*\n",
    "\n",
    "Template for Manhattan distances questions:\n",
    "- The main headache for Manhattan distances question is that we have to deal with the absolute function: `dis((x1, y1), (x2, y2)) = |x1 - x2| + |y1 - y2|`\n",
    "- There's a transformance which can be used to remove the absolute value, that's **`(x, y) -> (x - y, x + y)`**\n",
    "- This transformation comes from rotate the point by 45 degree counterclockwisely, and times sqrt(2)\n",
    "   \n",
    "Proof: \n",
    "- Given two points (x1, y1), (x2, y2), the manhattan distance \n",
    "-  `|x1 - x2| + |y1 - y2| = max({x1 - x2 + y1 - y2, x1 - x2 - y1 + y2, - x1 + x2 + y1 - y2, - x1 + x2 - y1 + y2})`\n",
    "- After transformation, we get (_x1, _y1) and (_x2, _y2) where\n",
    "(_x1, _y1) = (x1 - y1, x1 + y1) and (_x2, _y2) = (x2 - y2, x2 + y2)\n",
    "-  Imagine, when you connected these two transformed points, the projection of the line segment on x-axis is `|_x1 - _x2| = max{x1 - x2 - y1 + y2, - x1 + x2 + y1 - y2}`, the projection of the line segment on y_axis is `|_y1 - _y2| = max{x1 - x2 + y1 - y2, - x1 + x2 - y1 + y2}`.\n",
    "-  So we can get `|x1 - x2| + |y1 - y2| = max(|_x1 - _x2|, |_y1 - _y2|)`\n",
    "-  That's to say, to know the maxmimum Manhattan distance between any of two points, we just need to know the maximum value of the difference between the horizontal and vertical coordinates for the transformed points. \n",
    "\n",
    "Solution: Given the proof above, we just need to 1. transform all the points, 2. sort their horizontal coordinate and vertical coordinates separately, 3. Simulation: iterate over all the points, try removing them from the list and compute the minimal maximum\n"
   ]
  },
  {
   "cell_type": "code",
   "execution_count": 7,
   "metadata": {},
   "outputs": [],
   "source": [
    "from sortedcontainers import SortedList\n",
    "\n",
    "class Solution:\n",
    "    def minimumDistance(self, points: List[List[int]]) -> int:\n",
    "        xs = SortedList()\n",
    "        ys = SortedList()\n",
    "        for x, y in points:\n",
    "            xs.add(x + y)\n",
    "            ys.add(y - x)\n",
    "        ans = inf\n",
    "        for x, y in points:\n",
    "            x, y = x + y, y - x\n",
    "            xs.remove(x)\n",
    "            ys.remove(y)\n",
    "            ans = min(ans, max(xs[-1] - xs[0], ys[-1] - ys[0]))\n",
    "            xs.add(x)\n",
    "            ys.add(y)\n",
    "        return ans"
   ]
  },
  {
   "cell_type": "markdown",
   "metadata": {},
   "source": []
  }
 ],
 "metadata": {
  "kernelspec": {
   "display_name": "py39",
   "language": "python",
   "name": "python3"
  },
  "language_info": {
   "codemirror_mode": {
    "name": "ipython",
    "version": 3
   },
   "file_extension": ".py",
   "mimetype": "text/x-python",
   "name": "python",
   "nbconvert_exporter": "python",
   "pygments_lexer": "ipython3",
   "version": "3.9.7"
  },
  "orig_nbformat": 4,
  "vscode": {
   "interpreter": {
    "hash": "e0c9c349f8618313f1dfe96763b44e5bdd87d9397e64eaa1caaf4cc9063e68f1"
   }
  }
 },
 "nbformat": 4,
 "nbformat_minor": 2
}
