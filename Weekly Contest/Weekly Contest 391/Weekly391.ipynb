{
 "cells": [
  {
   "attachments": {},
   "cell_type": "markdown",
   "metadata": {},
   "source": [
    "### Weekly Contest 391"
   ]
  },
  {
   "attachments": {},
   "cell_type": "markdown",
   "metadata": {},
   "source": [
    "#### 3099. Harshad Number\n",
    "\n",
    "> An integer divisible by the sum of its digits is said to be a Harshad number. You are given an integer x. Return the sum of the digits of x if x is a Harshad number, otherwise, return -1.\n",
    "\n",
    "*Tags: Math*\n",
    "\n",
    "Solution: just do as the problem describes"
   ]
  },
  {
   "cell_type": "code",
   "execution_count": 1,
   "metadata": {},
   "outputs": [],
   "source": [
    "from typing import List"
   ]
  },
  {
   "cell_type": "code",
   "execution_count": 1,
   "metadata": {},
   "outputs": [],
   "source": [
    "class Solution:\n",
    "    def sumOfTheDigitsOfHarshadNumber(self, x: int) -> int:\n",
    "        y = 0\n",
    "        n = x\n",
    "        while x:\n",
    "            y += x % 10\n",
    "            x //= 10\n",
    "        if n % y == 0: return y\n",
    "        return -1"
   ]
  },
  {
   "attachments": {},
   "cell_type": "markdown",
   "metadata": {},
   "source": [
    "#### 3100. Water Bottles II\n",
    "\n",
    "> You are given two integers numBottles and numExchange.\n",
    ">\n",
    "> numBottles represents the number of full water bottles that you initially have. In one operation, you can perform one of the following operations:\n",
    ">\n",
    "> Drink any number of full water bottles turning them into empty bottles.\n",
    "Exchange numExchange empty bottles with one full water bottle. Then, increase numExchange by one.\n",
    "Note that you cannot exchange multiple batches of empty bottles for the same value of numExchange. For example, if numBottles == 3 and numExchange == 1, you cannot exchange 3 empty water bottles for 3 full bottles.\n",
    "> \n",
    "> Return the maximum number of water bottles you can drink.\n",
    "\n",
    "*Tags: Math, Simulation*\n",
    "\n",
    "\n",
    "Solution: try to make the beginning characters as close to 'a' as possible"
   ]
  },
  {
   "cell_type": "code",
   "execution_count": 4,
   "metadata": {},
   "outputs": [],
   "source": [
    "class Solution:\n",
    "    def maxBottlesDrunk(self, numBottles: int, numExchange: int) -> int:\n",
    "        empty = 0\n",
    "        full = numBottles\n",
    "        ans = 0\n",
    "        while full or empty >= numExchange:\n",
    "            ans += full\n",
    "            empty += full\n",
    "            full = 0\n",
    "            if numExchange <= empty:\n",
    "                full += 1\n",
    "                empty -= numExchange\n",
    "                numExchange += 1\n",
    "        return ans"
   ]
  },
  {
   "attachments": {},
   "cell_type": "markdown",
   "metadata": {},
   "source": [
    "#### 3101. Count Alternating Subarrays\n",
    "\n",
    "> You are given a binary array nums.\n",
    ">\n",
    "> We call a subarray alternating if no two adjacent elements in the subarray have the same value.\n",
    ">\n",
    "> Return the number of alternating subarrays in nums.\n",
    "\n",
    "*Tags: Array, Math*\n",
    "\n",
    "Solution: "
   ]
  },
  {
   "cell_type": "code",
   "execution_count": 5,
   "metadata": {},
   "outputs": [],
   "source": [
    "class Solution:\n",
    "    def countAlternatingSubarrays(self, nums: List[int]) -> int:\n",
    "        ans = []\n",
    "        cnt, prev = 0, None\n",
    "        for i in range(len(nums)):\n",
    "            # Don't use not prev....\n",
    "            if prev is None or prev != nums[i]:\n",
    "                prev = nums[i]\n",
    "                cnt += 1\n",
    "            else:\n",
    "                ans.append(cnt)\n",
    "                prev = nums[i]\n",
    "                cnt = 1\n",
    "        ans.append(cnt)\n",
    "        return sum([n * (n+1) // 2 for n in ans])\n"
   ]
  },
  {
   "attachments": {},
   "cell_type": "markdown",
   "metadata": {},
   "source": [
    "#### 3102. Minimize Manhattan Distances\n",
    "\n",
    "> You are given a array points representing integer coordinates of some points on a 2D plane, where points[i] = [xi, yi].\n",
    ">\n",
    "> The distance between two points is defined as their Manhattan distance.\n",
    ">\n",
    "> Return the minimum possible value for maximum distance between any two points by removing exactly one point.\n",
    "\n",
    "*Tags: Array, Math*\n",
    "\n",
    "Observation:\n",
    "1. The more paths you traverse, the better result you may get, as a_1 & a_2 & a_3... & a_n <= min(a_1 & a_2 & a_3... & a_n)\n",
    "2. If we call those connected nodes as a group, then the shortest cost between any two nodes in this group is the same. Given observation#1, you should always try using as many edges as you can. So the best strategy is to try using every edge you are able to achieve.\n",
    "\n",
    "Solution: As we have observed that, all the elements in a group are sharing some common features, then union find is very suitable for such situation.\n",
    "\n",
    "Attention: Be caseful to adopt path compresson, otherwise you would be faced with TLE."
   ]
  },
  {
   "cell_type": "code",
   "execution_count": 6,
   "metadata": {},
   "outputs": [],
   "source": [
    "class Solution:  \n",
    "    \n",
    "    def __init__(self):\n",
    "        self.uf = None\n",
    "        self.value = None\n",
    "    \n",
    "    def find(self, x):\n",
    "        tmp = []\n",
    "        while self.uf[x] != x:\n",
    "            tmp.append(x)\n",
    "            x = self.uf[x]\n",
    "        #path compresson\n",
    "        for t in tmp:\n",
    "            self.uf[t] = x\n",
    "        return x\n",
    "    \n",
    "    def union(self, x, y):\n",
    "        xx = self.find(x)\n",
    "        yy = self.find(y)\n",
    "        self.uf[xx] = self.uf[x] = self.uf[y] = yy\n",
    "        self.values[yy] &= self.values[xx]\n",
    "        return yy\n",
    "    \n",
    "    def minimumCost(self, n: int, edges: List[List[int]], query: List[List[int]]) -> List[int]:\n",
    "        self.uf = [i for i in range(n)]\n",
    "        self.values = [int(pow(2,32))-1] * n\n",
    "        \n",
    "        for u, v, w in edges:\n",
    "            self.values[self.union(u, v)] &= w\n",
    "            \n",
    "        ans = []\n",
    "        for u, v in query:\n",
    "            if self.find(u) != self.find(v):\n",
    "                ans.append(-1)\n",
    "            else:\n",
    "                ans.append(self.values[self.find(u)])\n",
    "            \n",
    "        return ans"
   ]
  },
  {
   "cell_type": "markdown",
   "metadata": {},
   "source": []
  }
 ],
 "metadata": {
  "kernelspec": {
   "display_name": "py39",
   "language": "python",
   "name": "python3"
  },
  "language_info": {
   "codemirror_mode": {
    "name": "ipython",
    "version": 3
   },
   "file_extension": ".py",
   "mimetype": "text/x-python",
   "name": "python",
   "nbconvert_exporter": "python",
   "pygments_lexer": "ipython3",
   "version": "3.9.7"
  },
  "orig_nbformat": 4,
  "vscode": {
   "interpreter": {
    "hash": "e0c9c349f8618313f1dfe96763b44e5bdd87d9397e64eaa1caaf4cc9063e68f1"
   }
  }
 },
 "nbformat": 4,
 "nbformat_minor": 2
}
