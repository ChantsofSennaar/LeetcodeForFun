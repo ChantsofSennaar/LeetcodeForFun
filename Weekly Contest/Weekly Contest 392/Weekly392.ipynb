{
 "cells": [
  {
   "attachments": {},
   "cell_type": "markdown",
   "metadata": {},
   "source": [
    "### Weekly Contest 392\n",
    "\n"
   ]
  },
  {
   "attachments": {},
   "cell_type": "markdown",
   "metadata": {},
   "source": [
    "#### 3105. Longest Strictly Increasing or Strictly Decreasing Subarray\n",
    "\n",
    "> You are given an array of integers nums. Return the length of the longest subarray of nums which is either strictly increasing or strictly decreasing.\n",
    "\n",
    "*Tags: Array*\n",
    "\n",
    "Solution: Once encountering a new number which is smaller/larger than the previous one, it means it's no longer a strictly increasing or or strictly decreasing array, so we should start considering a new candidate array, i.e. move the start point of subarray.\n",
    "\n",
    "Optimization: only one time traverse."
   ]
  },
  {
   "cell_type": "code",
   "execution_count": 1,
   "metadata": {},
   "outputs": [],
   "source": [
    "from typing import List"
   ]
  },
  {
   "cell_type": "code",
   "execution_count": 2,
   "metadata": {},
   "outputs": [],
   "source": [
    "class Solution:\n",
    "    def longestMonotonicSubarray(self, nums: List[int]) -> int:\n",
    "        l, ans = 0, 1\n",
    "        for i in range(1, len(nums)):\n",
    "            if nums[i] > nums[i-1]:\n",
    "                ans = max(ans, i-l+1)\n",
    "            else:\n",
    "                l = i\n",
    "        l = 0\n",
    "        for i in range(1, len(nums)):\n",
    "            if nums[i] < nums[i-1]:\n",
    "                ans = max(ans, i-l+1)\n",
    "            else:\n",
    "                l = i\n",
    "        return ans"
   ]
  },
  {
   "cell_type": "code",
   "execution_count": 3,
   "metadata": {},
   "outputs": [],
   "source": [
    "class Solution:\n",
    "    def longestMonotonicSubarray(self, nums: List[int]) -> int:\n",
    "        incr, decr, ans = 1, 1, 1\n",
    "        prev = nums[0]\n",
    "        for num in nums:\n",
    "            incr = incr * (num > prev) + 1\n",
    "            decr = decr * (num < prev) + 1\n",
    "            prev = num\n",
    "            ans = max(ans, incr, decr)     \n",
    "        return ans"
   ]
  },
  {
   "attachments": {},
   "cell_type": "markdown",
   "metadata": {},
   "source": [
    "#### 3106. Lexicographically Smallest String After Operations With Constraint\n",
    "\n",
    "> You are given a string s and an integer k.\n",
    ">\n",
    "> Define a function distance(s1, s2) between two strings s1 and s2 of the same length n as:\n",
    ">\n",
    "> The sum of the minimum distance between s1[i] and s2[i] when the characters from 'a' to 'z' are placed in a cyclic order, for all i in the range [0, n - 1].\n",
    "> For example, distance(\"ab\", \"cd\") == 4, and distance(\"a\", \"z\") == 1.\n",
    ">\n",
    "> You can change any letter of s to any other lowercase English letter, any number of times.\n",
    ">  \n",
    "> Return a string denoting the lexicographically smallest string t you can get after some changes, such that distance(s, t) <= k.\n",
    "\n",
    "*Tags: String, Greedy*\n",
    "\n",
    "\n",
    "Solution: try to make the beginning characters as close to 'a' as possible"
   ]
  },
  {
   "cell_type": "code",
   "execution_count": 4,
   "metadata": {},
   "outputs": [],
   "source": [
    "class Solution: \n",
    "    def computeDistance(self, c, k):\n",
    "        cost = min(ord(c) - ord('a'), ord('z') - ord(c) + 1) \n",
    "        if cost <= k : return 'a', k-cost\n",
    "        else: return chr(ord(c) - k), 0\n",
    "    \n",
    "    def getSmallestString(self, s: str, k: int) -> str:\n",
    "        s = list(s)\n",
    "        for i,c in enumerate(s):\n",
    "            s[i], k = self.computeDistance(c, k)\n",
    "            if k == 0: break\n",
    "        return \"\".join(s)"
   ]
  },
  {
   "attachments": {},
   "cell_type": "markdown",
   "metadata": {},
   "source": [
    "#### 3106. Lexicographically Smallest String After Operations With Constraint\n",
    "\n",
    "> You are given a string s and an integer k.\n",
    ">\n",
    "> Define a function distance(s1, s2) between two strings s1 and s2 of the same length n as:\n",
    ">\n",
    "> The sum of the minimum distance between s1[i] and s2[i] when the characters from 'a' to 'z' are placed in a cyclic order, for all i in the range [0, n - 1].\n",
    "> For example, distance(\"ab\", \"cd\") == 4, and distance(\"a\", \"z\") == 1.\n",
    ">\n",
    "> You can change any letter of s to any other lowercase English letter, any number of times.\n",
    ">  \n",
    "> Return a string denoting the lexicographically smallest string t you can get after some changes, such that distance(s, t) <= k.\n",
    "\n",
    "*Tags: Array, Greedy, Sorting*\n",
    "\n",
    "Solution: This question is easy as it told you there will always be only one median. So just sort the numbers(2*10^5), make sure all the numbers to the left are smaller than k, and to the right are larger than k."
   ]
  },
  {
   "cell_type": "code",
   "execution_count": 5,
   "metadata": {},
   "outputs": [],
   "source": [
    "class Solution:\n",
    "    def minOperationsToMakeMedianK(self, nums: List[int], k: int) -> int:\n",
    "        nums.sort()            \n",
    "        median = len(nums)//2\n",
    "        ans = 0\n",
    "        \n",
    "        for i in range(len(nums)):\n",
    "            if i < median and nums[i] > k: ans +=  nums[i]  - k \n",
    "            elif i > median and nums[i]  < k: ans += k - nums[i] \n",
    "            elif i == median: ans += abs(k - nums[i])     \n",
    "    \n",
    "        return ans"
   ]
  },
  {
   "attachments": {},
   "cell_type": "markdown",
   "metadata": {},
   "source": [
    "#### 3107. Minimum Operations to Make Median of Array Equal to K\n",
    "\n",
    "> There is an undirected weighted graph with n vertices labeled from 0 to n - 1.\n",
    ">\n",
    "> You are given the integer n and an array edges, where edges[i] = [ui, vi, wi] indicates that there is an edge between vertices ui and vi with a weight of wi.\n",
    "> \n",
    "> A walk on a graph is a sequence of vertices and edges. The walk starts and ends with a vertex, and each edge connects the vertex that comes before it and the vertex that comes after it. It's important to note that a walk may visit the same edge or vertex more than once.\n",
    "> \n",
    "> The cost of a walk starting at node u and ending at node v is defined as the bitwise AND of the weights of the edges traversed during the walk. In other words, if the sequence of edge weights encountered during the walk is w0, w1, w2, ..., wk, then the cost is calculated as w0 & w1 & w2 & ... & wk, where & denotes the bitwise AND operator.\n",
    "> \n",
    "> You are also given a 2D array query, where query[i] = [si, ti]. For each query, you need to find the minimum cost of the walk starting at vertex si and ending at vertex ti. If there exists no such walk, the answer is -1.\n",
    "> \n",
    "> Return the array answer, where answer[i] denotes the minimum cost of a walk for query i.\n",
    "\n",
    "*Tags: Array, Bit Manipulation, Union Find, Graph*\n",
    "\n",
    "Observation:\n",
    "1. The more paths you traverse, the better result you may get, as a_1 & a_2 & a_3... & a_n <= min(a_1 & a_2 & a_3... & a_n)\n",
    "2. If we call those connected nodes as a group, then the shortest cost between any two nodes in this group is the same. Given observation#1, you should always try using as many edges as you can. So the best strategy is to try using every edge you are able to achieve.\n",
    "\n",
    "Solution: As we have observed that, all the elements in a group are sharing some common features, then union find is very suitable for such situation.\n",
    "\n",
    "Attention: Be caseful to adopt path compresson, otherwise you would be faced with TLE."
   ]
  },
  {
   "cell_type": "code",
   "execution_count": 6,
   "metadata": {},
   "outputs": [],
   "source": [
    "class Solution:  \n",
    "    \n",
    "    def __init__(self):\n",
    "        self.uf = None\n",
    "        self.value = None\n",
    "    \n",
    "    def find(self, x):\n",
    "        tmp = []\n",
    "        while self.uf[x] != x:\n",
    "            tmp.append(x)\n",
    "            x = self.uf[x]\n",
    "        #path compresson\n",
    "        for t in tmp:\n",
    "            self.uf[t] = x\n",
    "        return x\n",
    "    \n",
    "    def union(self, x, y):\n",
    "        xx = self.find(x)\n",
    "        yy = self.find(y)\n",
    "        self.uf[xx] = self.uf[x] = self.uf[y] = yy\n",
    "        self.values[yy] &= self.values[xx]\n",
    "        return yy\n",
    "    \n",
    "    def minimumCost(self, n: int, edges: List[List[int]], query: List[List[int]]) -> List[int]:\n",
    "        self.uf = [i for i in range(n)]\n",
    "        self.values = [int(pow(2,32))-1] * n\n",
    "        \n",
    "        for u, v, w in edges:\n",
    "            self.values[self.union(u, v)] &= w\n",
    "            \n",
    "        ans = []\n",
    "        for u, v in query:\n",
    "            if self.find(u) != self.find(v):\n",
    "                ans.append(-1)\n",
    "            else:\n",
    "                ans.append(self.values[self.find(u)])\n",
    "        \n",
    "        return ans"
   ]
  },
  {
   "cell_type": "markdown",
   "metadata": {},
   "source": []
  }
 ],
 "metadata": {
  "kernelspec": {
   "display_name": "py39",
   "language": "python",
   "name": "python3"
  },
  "language_info": {
   "codemirror_mode": {
    "name": "ipython",
    "version": 3
   },
   "file_extension": ".py",
   "mimetype": "text/x-python",
   "name": "python",
   "nbconvert_exporter": "python",
   "pygments_lexer": "ipython3",
   "version": "3.9.7 (default, Sep 16 2021, 08:50:36) \n[Clang 10.0.0 ]"
  },
  "orig_nbformat": 4,
  "vscode": {
   "interpreter": {
    "hash": "e0c9c349f8618313f1dfe96763b44e5bdd87d9397e64eaa1caaf4cc9063e68f1"
   }
  }
 },
 "nbformat": 4,
 "nbformat_minor": 2
}
