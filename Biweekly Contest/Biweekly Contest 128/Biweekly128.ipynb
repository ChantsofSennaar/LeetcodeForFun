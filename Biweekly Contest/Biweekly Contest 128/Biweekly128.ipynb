{
 "cells": [
  {
   "attachments": {},
   "cell_type": "markdown",
   "metadata": {},
   "source": [
    "### BiWeekly Contest 128\n",
    "\n"
   ]
  },
  {
   "attachments": {},
   "cell_type": "markdown",
   "metadata": {},
   "source": [
    "#### 3095. Shortest Subarray With OR at Least K I\n",
    "\n",
    "> You are given an array nums of non-negative integers and an integer k.\n",
    ">\n",
    ">An array is called special if the bitwise OR of all of its elements is at least k.\n",
    ">\n",
    ">Return the length of the shortest special non-empty subarray of nums, or return -1 if no special subarray exists.\n",
    "\n",
    "*Tags: Array, Bit Manipulation, Sliding Window*\n",
    "\n",
    "Solution: Most of problems related to subarray can be solved by sliding window. The key to this problem is how to maintain the status of the sliding window, here is how to undo the & operation. We should always try to perform the undo operation under constant(or log) time complexity. Here since it's a bid manipulation, it's obvious that we should use a bit frequency table. For each bit, we can maintain a set which records the index of the number in nums list which has 1 on that bit."
   ]
  },
  {
   "cell_type": "code",
   "execution_count": 2,
   "metadata": {},
   "outputs": [],
   "source": [
    "from typing import List\n",
    "class Solution:\n",
    "    def minimumSubarrayLength(self, nums: List[int], k: int) -> int:\n",
    "        bits = [set() for _ in range(32)]\n",
    "        i, cur = 0, 0\n",
    "        ans = float(\"inf\")\n",
    "        \n",
    "        for j, num in enumerate(nums):\n",
    "            for x in range(32):\n",
    "                if num & (1 << x) > 0:\n",
    "                    bits[x].add(j)\n",
    "            cur = cur | num\n",
    "            if cur >= k: ans = min(ans, j-i+1)\n",
    "            while i < j and cur >= k: \n",
    "                for x, bit in enumerate(bits):\n",
    "                    if i in bit:\n",
    "                        bit.remove(i)\n",
    "                        if len(bit) == 0:\n",
    "                            cur -= 1 << x\n",
    "                i += 1\n",
    "                if cur >= k: ans = min(ans, j-i+1)\n",
    "        return ans if ans != float(\"inf\") else -1"
   ]
  },
  {
   "attachments": {},
   "cell_type": "markdown",
   "metadata": {},
   "source": [
    "#### 3096. Minimum Levels to Gain More Points\n",
    "\n",
    "> You are given a binary array possible of length n.\n",
    "> \n",
    "> Danielchandg and Bob are playing a game that consists of n levels. Some of the levels in the game are impossible to clear while others can always be cleared. In particular, if possible[i] == 0, then the ith level is impossible to clear for both the players. A player gains 1 point on clearing a level and loses 1 point if the player fails to clear it.\n",
    "> \n",
    "> At the start of the game, Danielchandg will play some levels in the given order starting from the 0th level, after which Bob will play for the rest of the levels.\n",
    "> \n",
    "> Danielchandg wants to know the minimum number of levels he should play to gain more points than Bob, if both players play optimally to maximize their points.\n",
    "> \n",
    "> Return the minimum number of levels danielchandg should play to gain more points. If this is not possible, return -1.\n",
    "> \n",
    "> Note that each player must play at least 1 level.\n",
    "\n",
    "*Tags: Array, Prefix Sum*\n",
    "\n",
    "Solution: Use prefix sum to record how many points Daniel could win by playing i games. Just need to be careful each player must play at least one level."
   ]
  },
  {
   "cell_type": "code",
   "execution_count": 4,
   "metadata": {},
   "outputs": [],
   "source": [
    "class Solution:\n",
    "    def minimumLevels(self, possible: List[int]) -> int:\n",
    "        total = 0\n",
    "        presum = [0] * len(possible)\n",
    "        for idx, i in enumerate(possible):\n",
    "            if i == 1: total += 1\n",
    "            else: total -= 1\n",
    "            presum[idx] = total\n",
    "            \n",
    "        for i in range(len(possible)-1):\n",
    "            if presum[i] > total - presum[i]: return i+1\n",
    "            \n",
    "        return -1"
   ]
  },
  {
   "attachments": {},
   "cell_type": "markdown",
   "metadata": {},
   "source": [
    "#### 3097. Shortest Subarray With OR at Least K II\n",
    "\n",
    "> You are given an array nums of non-negative integers and an integer k.\n",
    ">\n",
    ">An array is called special if the bitwise OR of all of its elements is at least k.\n",
    ">\n",
    ">Return the length of the shortest special non-empty subarray of nums, or return -1 if no special subarray exists.\n",
    "\n",
    "*Tags: Array, Bit Manipulation, Sliding Window*\n",
    "\n",
    "Solution: Same as Q1."
   ]
  },
  {
   "cell_type": "code",
   "execution_count": 3,
   "metadata": {},
   "outputs": [],
   "source": [
    "from typing import List\n",
    "class Solution:\n",
    "    def minimumSubarrayLength(self, nums: List[int], k: int) -> int:\n",
    "        bits = [set() for _ in range(32)]\n",
    "        i, cur = 0, 0\n",
    "        ans = float(\"inf\")\n",
    "        \n",
    "        for j, num in enumerate(nums):\n",
    "            for x in range(32):\n",
    "                if num & (1 << x) > 0:\n",
    "                    bits[x].add(j)\n",
    "            cur = cur | num\n",
    "            if cur >= k: ans = min(ans, j-i+1)\n",
    "            while i < j and cur >= k: \n",
    "                for x, bit in enumerate(bits):\n",
    "                    if i in bit:\n",
    "                        bit.remove(i)\n",
    "                        if len(bit) == 0:\n",
    "                            cur -= 1 << x\n",
    "                i += 1\n",
    "                if cur >= k: ans = min(ans, j-i+1)\n",
    "        return ans if ans != float(\"inf\") else -1"
   ]
  },
  {
   "attachments": {},
   "cell_type": "markdown",
   "metadata": {},
   "source": [
    "#### 3098. Find the Sum of Subsequence Powers\n",
    "\n",
    "> You are given an integer array nums of length n, and a positive integer k.\n",
    ">\n",
    "> The power of a subsequence is defined as the minimum absolute difference between any two elements in the subsequence.\n",
    "> \n",
    "> Return the sum of powers of all subsequences of nums which have length equal to k.\n",
    "> \n",
    "> Since the answer may be large, return it modulo 10^9 + 7.\n",
    "\n",
    "*Tags: Array, Dynamic Programming, Sorting*\n",
    "\n",
    "Solution: \n",
    "\n",
    "Complexity: The complexity of DP usually equals to the number of states. Here we have dp[idx][last_chosen][remaining_k][min_diff]. idx ranges from [0,n-1], last_chosen has n possibilities, remaining_k ranges from [0, k], it's hard to estimate min_diff, maybe n**2 possiblities. But in this problem n is kinda small [2, 50], so the overall time complexity is not that bad. Otherwise it's very likely to have TLE or MLE."
   ]
  },
  {
   "cell_type": "code",
   "execution_count": 6,
   "metadata": {},
   "outputs": [],
   "source": [
    "class Solution:\n",
    "    def sumOfPowers(self, nums: List[int], k: int) -> int:\n",
    "        MOD, n = 10 ** 9 + 7, len(nums)\n",
    "        nums.sort()\n",
    "        ans = 0\n",
    "        memo = {}\n",
    "        \n",
    "        def dp(idx, last_chosen, remaining_k, min_diff):\n",
    "            if (idx, last_chosen, remaining_k, min_diff) in memo: return memo[(idx, last_chosen, remaining_k, min_diff)]\n",
    "            if idx + remaining_k > n: return 0\n",
    "            if remaining_k == 0: \n",
    "                if min_diff == inf: return 0\n",
    "                else: return min_diff\n",
    "            \n",
    "            memo[(idx, last_chosen, remaining_k, min_diff)] = dp(idx + 1, last_chosen, remaining_k, min_diff)  \\\n",
    "                    + dp(idx + 1, nums[idx], remaining_k-1, min(min_diff, abs(nums[idx] - last_chosen)))    \n",
    "            return memo[(idx, last_chosen, remaining_k, min_diff)] % MOD\n",
    "            \n",
    "        ans = dp(0, inf, k, inf)\n",
    "        return ans"
   ]
  },
  {
   "cell_type": "markdown",
   "metadata": {},
   "source": []
  }
 ],
 "metadata": {
  "kernelspec": {
   "display_name": "py39",
   "language": "python",
   "name": "python3"
  },
  "language_info": {
   "codemirror_mode": {
    "name": "ipython",
    "version": 3
   },
   "file_extension": ".py",
   "mimetype": "text/x-python",
   "name": "python",
   "nbconvert_exporter": "python",
   "pygments_lexer": "ipython3",
   "version": "3.9.7 (default, Sep 16 2021, 08:50:36) \n[Clang 10.0.0 ]"
  },
  "orig_nbformat": 4,
  "vscode": {
   "interpreter": {
    "hash": "e0c9c349f8618313f1dfe96763b44e5bdd87d9397e64eaa1caaf4cc9063e68f1"
   }
  }
 },
 "nbformat": 4,
 "nbformat_minor": 2
}
