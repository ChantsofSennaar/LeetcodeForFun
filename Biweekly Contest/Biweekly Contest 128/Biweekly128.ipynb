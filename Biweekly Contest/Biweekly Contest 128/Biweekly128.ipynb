{
 "cells": [
  {
   "attachments": {},
   "cell_type": "markdown",
   "metadata": {},
   "source": [
    "### BiWeekly Contest 128\n"
   ]
  },
  {
   "attachments": {},
   "cell_type": "markdown",
   "metadata": {},
   "source": [
    "#### 3110. Score of a String\n",
    "\n",
    "> You are given a string s. The score of a string is defined as the sum of the absolute difference between the ASCII values of adjacent characters.\n",
    ">\n",
    "> Return the score of s.\n",
    "\n",
    "\n",
    "\n",
    "*Tags: String*\n",
    "\n",
    "Solution: Iterate over the array, calculate the difference between the adjacent elements, use ord() to get their ASCII value, sum them up."
   ]
  },
  {
   "cell_type": "code",
   "execution_count": 2,
   "metadata": {},
   "outputs": [],
   "source": [
    "from typing import List\n",
    "class Solution:\n",
    "    def scoreOfString(self, s: str) -> int:\n",
    "        return sum([abs(ord(s[i]) - ord(s[i+1])) for i in range(len(s)-1)])"
   ]
  },
  {
   "attachments": {},
   "cell_type": "markdown",
   "metadata": {},
   "source": [
    "#### 3111. Minimum Rectangles to Cover Points\n",
    "\n",
    "> You are given a 2D integer array points, where points[i] = [xi, yi]. You are also given an integer w. Your task is to cover all the given points with rectangles.\n",
    "> \n",
    "> Each rectangle has its lower end at some point (x1, 0) and its upper end at some point (x2, y2), where x1 <= x2, y2 >= 0, and the condition x2 - x1 <= w must be satisfied for each rectangle.\n",
    "> \n",
    "> A point is considered covered by a rectangle if it lies within or on the boundary of the rectangle.\n",
    "> \n",
    "> Return an integer denoting the minimum number of rectangles needed so that each point is covered by at least one rectangle.\n",
    "> \n",
    "> Note: A point may be covered by more than one rectangle.\n",
    "\n",
    "\n",
    "*Tags: Array, Greedy, Sorting*\n",
    "\n",
    "Solution: Only horizontal coordinates matter. Get all the horizontal coordinates as a list, sort them. Iterate over all points, always choose the first uncovered point(its horizontal coordinate) as the left side of the rectangle, and check how many points can be covered in this rectangle. Once there's a point which can not be covered, have a new rectangle."
   ]
  },
  {
   "cell_type": "code",
   "execution_count": 4,
   "metadata": {},
   "outputs": [],
   "source": [
    "class Solution:\n",
    "    def minRectanglesToCoverPoints(self, points: List[List[int]], w: int) -> int:\n",
    "        x = [x for [x, y] in points]\n",
    "        x.sort()\n",
    "        \n",
    "        ans = 1\n",
    "        prev = min(x)\n",
    "        for i in x:\n",
    "            if i - prev <= w:\n",
    "                continue\n",
    "            else:\n",
    "                ans += 1\n",
    "                prev = i\n",
    "        return ans"
   ]
  },
  {
   "attachments": {},
   "cell_type": "markdown",
   "metadata": {},
   "source": [
    "#### 3112. Minimum Time to Visit Disappearing Nodes\n",
    "\n",
    "> There is an undirected graph of n nodes. You are given a 2D array edges, where edges[i] = [ui, vi, lengthi] describes an edge between node ui and node vi with a traversal time of lengthi units.\n",
    "> \n",
    "> Additionally, you are given an array disappear, where disappear[i] denotes the time when the node i disappears from the graph and you won't be able to visit it.\n",
    ">\n",
    ">Notice that the graph might be disconnected and might contain multiple edges.\n",
    ">\n",
    ">Return the array answer, with answer[i] denoting the minimum units of time required to reach node i from node 0. If node i is unreachable from node 0 then answer[i] is -1.\n",
    "\n",
    "*Tags: Array, Graph, Heap (Priority Queue), Shortest Path*\n",
    "\n",
    "Solution: Use prority queue to store (time, node) pair which means the number of TimeUnits it takes from starting point to 0, priority queue in sorted on time. The benefit of priority queue is to enable you to get possible shortest route as soon as possible, and could help avoid iterativing over the graph again and again to search for a shorter path."
   ]
  },
  {
   "cell_type": "code",
   "execution_count": 3,
   "metadata": {},
   "outputs": [],
   "source": [
    "import heapq\n",
    "class Solution:\n",
    "    def minimumTime(self, n: int, edges: List[List[int]], disappear: List[int]) -> List[int]:\n",
    "        ans = [inf for i in range(n)]\n",
    "        ans[0] = 0\n",
    "        \n",
    "        adjs = [defaultdict(int) for i in range(n)]\n",
    "        for u, v, w in edges:\n",
    "            adjs[u][v] = min(w, adjs[u].get(v, inf))\n",
    "            adjs[v][u] = min(w, adjs[v].get(u, inf))\n",
    "        \n",
    "        queue = [(0, 0)]\n",
    "        heapq.heapify(queue)\n",
    "        \n",
    "        while queue:\n",
    "            curTime, curNode = heappop(queue)\n",
    "            if curTime > ans[curNode]: continue\n",
    "            for neighbour, time in adjs[curNode].items():\n",
    "                if curTime + time >= disappear[neighbour]: continue\n",
    "                if curTime + time >= ans[neighbour]: continue\n",
    "                ans[neighbour] = curTime + time\n",
    "                heappush(queue, [ans[neighbour], neighbour])\n",
    "                \n",
    "        for i in range(n):\n",
    "            if ans[i] == inf: ans[i] = -1\n",
    "        return ans"
   ]
  },
  {
   "attachments": {},
   "cell_type": "markdown",
   "metadata": {},
   "source": [
    "#### 3113. Find the Number of Subarrays Where Boundary Elements Are Maximum\n",
    "\n",
    "> You are given an array of positive integers nums.\n",
    ">\n",
    "> Return the number of subarrays of nums, where the first and the last elements of the subarray are equal to the largest element in the subarray.\n",
    "\n",
    "*Tags: Array, Binary Search, Stack, Monotonic Stack*\n",
    "\n",
    "Solution: Classic monotonic stack problems. We need to find next larger element on its right. We will have a stack, in which there are numbers ordered descendingly. If a number is in stack, it means it's still possible to contribute to a subarray which meets the requirements in the future. For an element a, if there's a larger element on its right, then to its right it means a will never be considered as the largest element in the subarray. Since it's useless in the future, we can pop it out from the stack, and calculate how it could contribute in the past."
   ]
  },
  {
   "cell_type": "code",
   "execution_count": 6,
   "metadata": {},
   "outputs": [],
   "source": [
    "class Solution:\n",
    "    def numberOfSubarrays(self, nums: List[int]) -> int:\n",
    "        stack = []\n",
    "        nums = nums + [inf]\n",
    "        ans = 0\n",
    "        for i, v in enumerate(nums):\n",
    "            cnt, prev = 0, None\n",
    "            while stack and nums[stack[-1]] < nums[i]:\n",
    "                cur = stack.pop()\n",
    "                if prev is None:\n",
    "                    prev, cnt = nums[cur], 1\n",
    "                elif prev == nums[cur]:\n",
    "                    cnt += 1\n",
    "                elif prev != nums[cur]:\n",
    "                    ans += (cnt * (cnt + 1) // 2) if cnt >= 1 else 0\n",
    "                    prev, cnt = nums[cur], 1\n",
    "            ans += ((cnt * (cnt + 1) // 2) if cnt >= 1 else 0)\n",
    "            stack.append(i)\n",
    "        return ans"
   ]
  },
  {
   "cell_type": "markdown",
   "metadata": {},
   "source": []
  }
 ],
 "metadata": {
  "kernelspec": {
   "display_name": "py39",
   "language": "python",
   "name": "python3"
  },
  "language_info": {
   "codemirror_mode": {
    "name": "ipython",
    "version": 3
   },
   "file_extension": ".py",
   "mimetype": "text/x-python",
   "name": "python",
   "nbconvert_exporter": "python",
   "pygments_lexer": "ipython3",
   "version": "3.9.7 (default, Sep 16 2021, 08:50:36) \n[Clang 10.0.0 ]"
  },
  "orig_nbformat": 4,
  "vscode": {
   "interpreter": {
    "hash": "e0c9c349f8618313f1dfe96763b44e5bdd87d9397e64eaa1caaf4cc9063e68f1"
   }
  }
 },
 "nbformat": 4,
 "nbformat_minor": 2
}
